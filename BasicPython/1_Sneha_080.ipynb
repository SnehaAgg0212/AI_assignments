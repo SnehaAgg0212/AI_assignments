{
 "metadata": {
  "language_info": {
   "codemirror_mode": {
    "name": "ipython",
    "version": 3
   },
   "file_extension": ".py",
   "mimetype": "text/x-python",
   "name": "python",
   "nbconvert_exporter": "python",
   "pygments_lexer": "ipython3",
   "version": "3.8.1-final"
  },
  "orig_nbformat": 2,
  "kernelspec": {
   "name": "python3",
   "display_name": "Python 3.8.1 64-bit",
   "metadata": {
    "interpreter": {
     "hash": "aee8b7b246df8f9039afb4144a1f6fd8d2ca17a180786b69acc140d282b71a49"
    }
   }
  }
 },
 "nbformat": 4,
 "nbformat_minor": 2,
 "cells": [
  {
   "source": [
    "QUESTION-1: "
   ],
   "cell_type": "markdown",
   "metadata": {}
  },
  {
   "cell_type": "code",
   "execution_count": 2,
   "metadata": {},
   "outputs": [
    {
     "output_type": "stream",
     "name": "stdout",
     "text": [
      " Welcome to this calculator program, you can select from one from the operations given below:\n",
      "        1. Addition\n",
      "        2. Subtraction\n",
      "        3. Multiplication\n",
      "        4. Division \n",
      "        To continue, press 'y', else press 'n' to exit the calculator\n",
      "Enter the operands\n",
      "Answer:\n",
      "25\n",
      "Press 'y' to continue or 'n' to stop the execution\n"
     ]
    }
   ],
   "source": [
    "#Write a python program (menu driven) that asks for an operation to be performed on two input numbers. \n",
    "# Operations are add, subtract, divide, multiply. \n",
    "# The program should keep asking for options on new numbers until the user specifies explicitly to exit. \n",
    "# Also handle the scenario of divide by zero through exception handling in python.\n",
    "import math\n",
    "\n",
    "print(\"\"\" Welcome to this calculator program, you can select from one from the operations given below:\n",
    "        1. Addition\n",
    "        2. Subtraction\n",
    "        3. Multiplication\n",
    "        4. Division \n",
    "        To continue, press 'y', else press 'n' to exit the calculator\"\"\")\n",
    "\n",
    "option = input()\n",
    "while option == 'y':\n",
    "    ch = int(input(\"Enter your choice of operation\"))\n",
    "    print(\"Enter the operands\")\n",
    "    a = int(input(\"Enter operand a: \"))\n",
    "    b = int(input(\"Enter operand b:\"))\n",
    "    try:\n",
    "        switcher = {\n",
    "            1: (a+b),\n",
    "            2: (a-b),\n",
    "            3: (a*b),\n",
    "            4: (a/b)\n",
    "        }\n",
    "        switcher.get(ch, \"Undefined option\")\n",
    "\n",
    "    except:\n",
    "        print(\"Division by zero is not permissible\")\n",
    "    else:\n",
    "        print(\"Answer:\")\n",
    "        print(switcher.get(ch, \"Undefined option\"))\n",
    "\n",
    "\n",
    "    print(\"Press 'y' to continue or 'n' to stop the execution\")\n",
    "    option = input()\n",
    "    if(option == 'n'):\n",
    "        break"
   ]
  },
  {
   "source": [
    "QUESTION-2: "
   ],
   "cell_type": "markdown",
   "metadata": {}
  },
  {
   "cell_type": "code",
   "execution_count": 17,
   "metadata": {},
   "outputs": [
    {
     "output_type": "stream",
     "name": "stdout",
     "text": [
      "occurence of  C is:  2\noccurence of  D is:  3\noccurence of  F is:  2\noccurence of  G is:  1\noccurence of  S is:  3\noccurence of  V is:  2\noccurence of  a is:  3\noccurence of  b is:  2\noccurence of  c is:  6\noccurence of  d is:  2\noccurence of  e is:  5\noccurence of  f is:  1\noccurence of  g is:  1\noccurence of  h is:  12\noccurence of  i is:  3\noccurence of  j is:  15\noccurence of  k is:  14\noccurence of  l is:  3\noccurence of  n is:  3\noccurence of  p is:  1\noccurence of  r is:  2\noccurence of  u is:  2\noccurence of  v is:  5\noccurence of  w is:  7\noccurence of  y is:  1\n"
     ]
    }
   ],
   "source": [
    "#Write a python program that reads text from an input file (use your own input text file, it should contain at least 5-6 small sentences) \n",
    "# and counts the number of times each alphabet is appearing in it, \n",
    "# and displays the frequency of the occurrence of each alphabet. (Use dictionary data-structure to solve it)\n",
    "\n",
    "f = open(\"/Users/anirudhagupta/Desktop/file.txt\")\n",
    "s = f.read()\n",
    "dict = {}\n",
    "for i in range(len(s)):\n",
    "    if ord(s[i]) in range(97, 123) or ord(s[i]) in range(65,91):\n",
    "        if s[i] in dict.keys():\n",
    "            dict[s[i]] = dict[s[i]] + 1\n",
    "\n",
    "        else:\n",
    "            dict[s[i]] = 1\n",
    "\n",
    "\n",
    "for i in sorted(dict):\n",
    "    print(\"occurence of \", i, \"is: \", dict[i])\n"
   ]
  },
  {
   "source": [
    "QUESTION -3:"
   ],
   "cell_type": "markdown",
   "metadata": {}
  },
  {
   "cell_type": "code",
   "execution_count": 4,
   "metadata": {},
   "outputs": [
    {
     "output_type": "stream",
     "name": "stdout",
     "text": [
      "The reversed sentence is:\n Sneha am I\n"
     ]
    }
   ],
   "source": [
    "#Write a python program that takes a sentence as input from the user and reverses the words in the sentence. \n",
    "# Eg. If the sentence is 'Welcome to AI lab', then the output should be 'lab AI to Welcome'. \n",
    "# (Use list and string data structures) \n",
    "\n",
    "sent = input(\"\"\"Enter the sentence:\n",
    "\"\"\")\n",
    "a = []\n",
    "word = \"\"\n",
    "for i in range(len(sent)):\n",
    "    if sent[i] == ' ':\n",
    "        a.append(word)\n",
    "        word = \"\"\n",
    "    else:\n",
    "        word = word + sent[i]\n",
    "\n",
    "a.append(word)\n",
    "\n",
    "newSent = \"\"\n",
    "for i in reversed(range(1,len(a))):\n",
    "    newSent = newSent + a[i]+ \" \"\n",
    "\n",
    "newSent = newSent + a[0]\n",
    "print(\"\"\"The reversed sentence is:\n",
    "\"\"\", newSent)\n"
   ]
  },
  {
   "source": [
    "QUESTION-4: "
   ],
   "cell_type": "markdown",
   "metadata": {}
  },
  {
   "cell_type": "code",
   "execution_count": 6,
   "metadata": {},
   "outputs": [
    {
     "output_type": "stream",
     "name": "stdout",
     "text": [
      "Answer:  3.6\n"
     ]
    }
   ],
   "source": [
    "#Write a python program to find the square root of a given number (n) within a given precision (p). \n",
    "# Do not use any predefined library. (Take a guess, compute error at each successive step, \n",
    "# until error is less than given precision) Example values of n are 10,15, 45, etc. \n",
    "# Example values of p are 0.1, 0.05, 0.01, etc\n",
    "\n",
    "n = int(input(\"Enter the number: \"))\n",
    "p = float(input(\"Enter the precision: \"))\n",
    "dec = 0\n",
    "q = p\n",
    "while q<1:\n",
    "    q*=10\n",
    "    dec+= 1\n",
    "num = 0\n",
    "for i in range(n):\n",
    "    if(i*i)> n:\n",
    "        num = i-1\n",
    "        break\n",
    "\n",
    "while num != n:\n",
    "    newNum = num + p\n",
    "    error = n - (newNum * newNum)\n",
    "    if error < p:\n",
    "        break\n",
    "    else:\n",
    "        num = newNum\n",
    "\n",
    "print(\"Answer: \", round(newNum,dec))"
   ]
  },
  {
   "source": [
    "QUESTION - 5:"
   ],
   "cell_type": "markdown",
   "metadata": {}
  },
  {
   "cell_type": "code",
   "execution_count": 5,
   "metadata": {},
   "outputs": [
    {
     "output_type": "stream",
     "name": "stdout",
     "text": [
      "Minimum point in y 7.555786381314817e-14\n"
     ]
    }
   ],
   "source": [
    "#Find the minimum value of a function y = (x+3)^2. \n",
    "# Write a python program to find the minimum value,\n",
    "# use the numerical method described in this link. \n",
    "\n",
    "import math\n",
    "\n",
    "\n",
    "def gradientDescent(x, alpha, num_iters):\n",
    "    y_history = [[]*2 ]*num_iters\n",
    "\n",
    "    for i in range(0, num_iters):\n",
    "        y = (x+3) ** 2\n",
    "        y_history[i] = [x,y]\n",
    "        update = (2*x) + 6\n",
    "        x = x- (alpha * update)\n",
    "    return y_history\n",
    "\n",
    "def minNum(res, num_iters):\n",
    "    minNo = res[0][1]\n",
    "    for i in range(1,num_iters-1):\n",
    "        if (res[i][1])< minNo:\n",
    "            minNo = res[i][1]\n",
    "    return minNo\n",
    "\n",
    "res = gradientDescent(-7, 0.3, 20)\n",
    "print(\"Minimum point in y\", minNum(res, 20))\n",
    "\n",
    "    "
   ]
  },
  {
   "source": [
    "QUESTION - 6:"
   ],
   "cell_type": "markdown",
   "metadata": {}
  },
  {
   "cell_type": "code",
   "execution_count": 16,
   "metadata": {},
   "outputs": [
    {
     "output_type": "stream",
     "name": "stdout",
     "text": [
      "Enter the dimensions for the first vector\n",
      "Enter the dimensions for the second vector\n",
      "Length of the vector:  3.7416573867739413\n",
      "Computing the cosine:  0.7367294616134239\n",
      "Computing the Euclidean distance:  15.588457268119896\n"
     ]
    }
   ],
   "source": [
    "#Create a suitable class in python to represent the mathematical concept of 'vector'\n",
    "#(use list data structure to represent vector). \n",
    "# Create appropriate member variables and member functions of this class to perform operations:\n",
    "#  Length of vector, Cosine similarity between two vectors, Euclidean distance between two vectors. \n",
    "\n",
    "import math\n",
    "class Vect:\n",
    "    def __init__(self, l):\n",
    "            self.lt = l \n",
    "\n",
    "    def length(self):\n",
    "        s = 0\n",
    "        for i in range(len(self.lt)):\n",
    "            s = s + (self.lt[i] ** 2)\n",
    "\n",
    "        return math.sqrt(s)\n",
    "\n",
    "    def compute_cosine(self, l):\n",
    "        sumxx, sumxy, sumyy = 0, 0, 0\n",
    "        for i in range(len(self.lt)):\n",
    "            x = self.lt[i]\n",
    "            y = l.lt[i]\n",
    "            sumxx += x*x\n",
    "            sumyy += y*y\n",
    "            sumxy += x*y\n",
    "        return sumxy/math.sqrt(sumxx*sumyy)\n",
    "\n",
    "    def EuclideanDist(self, l):\n",
    "        sumxy = 0 \n",
    "        diffxy = 0\n",
    "        for i in range(len(self.lt)):\n",
    "            x = self.lt[i]\n",
    "            y = l.lt[i]\n",
    "            diffxy = x-y\n",
    "            sumxy = sumxy + (diffxy ** 2)\n",
    "        return math.sqrt(sumxy)\n",
    "\n",
    "\n",
    "print (\"Enter the dimensions for the first vector\")\n",
    "l1 = [int(x) for x in input().split()]\n",
    "print (\"Enter the dimensions for the second vector\")\n",
    "l2 = [int(x) for x in input().split()]\n",
    "if len(l1) != len(l2):\n",
    "    print (\"There is a mismatch in the dimensions of the two vectors, please try again\")\n",
    "else:\n",
    "    v1 = Vect(l1)\n",
    "    v2 = Vect(l2)\n",
    "    print (\"Length of the vector: \",v1.length())\n",
    "    print (\"Computing the cosine: \",v1.compute_cosine(v2))\n",
    "    print (\"Computing the Euclidean distance: \",v2.EuclideanDist(v1))"
   ]
  },
  {
   "cell_type": "code",
   "execution_count": null,
   "metadata": {},
   "outputs": [],
   "source": []
  }
 ]
}